{
 "cells": [
  {
   "cell_type": "markdown",
   "metadata": {},
   "source": [
    "# This is where we will specifically put all code and answers for our third analysis question\n",
    "\n",
    "## Question: How do long-term trends in unemployment rates influence the overall performance and risk profile of the S&P 500 index.  "
   ]
  },
  {
   "cell_type": "markdown",
   "metadata": {},
   "source": [
    "Below is all imports needed to run our code."
   ]
  },
  {
   "cell_type": "code",
   "execution_count": null,
   "metadata": {},
   "outputs": [],
   "source": [
    "import pandas as pd\n",
    "from selenium import webdriver\n",
    "from selenium.webdriver.common.by import By\n",
    "from selenium.webdriver.chrome.service import Service\n",
    "from webdriver_manager.chrome import ChromeDriverManager\n",
    "from selenium.webdriver.support.ui import WebDriverWait\n",
    "from selenium.webdriver.support import expected_conditions as EC\n",
    "import time\n",
    "import random\n",
    "import matplotlib.pyplot as plt\n",
    "import seaborn as sns\n",
    "from scipy.stats import ttest_ind"
   ]
  },
  {
   "cell_type": "markdown",
   "metadata": {},
   "source": [
    "Below is the web-scraping process."
   ]
  },
  {
   "cell_type": "code",
   "execution_count": null,
   "metadata": {},
   "outputs": [],
   "source": [
    "browser = webdriver.Chrome()\n",
    "browser.get(\"https://www.bls.gov/charts/employment-situation/civilian-unemployment-rate.htm\")\n",
    "browser.maximize_window()\n",
    "wait = WebDriverWait(browser, 15)\n",
    "show_table_button = wait.until(\n",
    "    EC.element_to_be_clickable((By.LINK_TEXT, \"Show table\"))\n",
    ")\n",
    "\n",
    "show_table_button.click()\n",
    "\n",
    "time.sleep(2)\n",
    "\n",
    "table = browser.find_element(By.TAG_NAME, \"table\")\n",
    "rows = table.find_elements(By.TAG_NAME, \"tr\")\n",
    "\n",
    "month_years, total_rates, men_rates, women_rates, teen_rates, white_rates, black_rates, asian_rates, latino_rates = ([] for _ in range(9))\n",
    "\n",
    "for row in rows[1:]:\n",
    "    cols = row.find_elements(By.TAG_NAME, \"td\")\n",
    "    if len(cols) == 8:\n",
    "        th = row.find_element(By.TAG_NAME, \"th\")\n",
    "        month_year = th.find_element(By.CLASS_NAME, \"sub0\").text\n",
    "        month_years.append(month_year)\n",
    "        \n",
    "        total_rates.append(cols[0].text)\n",
    "        men_rates.append(cols[1].text)\n",
    "        women_rates.append(cols[2].text)\n",
    "        teen_rates.append(cols[3].text)\n",
    "        white_rates.append(cols[4].text)\n",
    "        black_rates.append(cols[5].text)\n",
    "        asian_rates.append(cols[6].text)\n",
    "        latino_rates.append(cols[7].text)\n",
    "        unemployment_df = pd.DataFrame({\n",
    "                \"Date\": month_years,\n",
    "    \"Total Rate\": total_rates,\n",
    "    \"Male Rate\": men_rates,\n",
    "    \"Female Rate\": women_rates,\n",
    "    \"Teen Rate\": teen_rates,\n",
    "    \"White Rate\": white_rates,\n",
    "    \"Black Rate\": black_rates,\n",
    "    \"Asian Rate\": asian_rates,\n",
    "    \"Hispanic Rate\": latino_rates\n",
    "})\n",
    "\n",
    "browser.quit()\n",
    "\n",
    "print(unemployment_df.head(10))"
   ]
  },
  {
   "cell_type": "code",
   "execution_count": null,
   "metadata": {},
   "outputs": [],
   "source": [
    "sp500_df = pd.read_csv(\"spy.csv\")\n",
    "sp500_df.head(10)"
   ]
  },
  {
   "cell_type": "markdown",
   "metadata": {},
   "source": [
    "Cleaning the data types."
   ]
  },
  {
   "cell_type": "code",
   "execution_count": null,
   "metadata": {},
   "outputs": [],
   "source": [
    "unemployment_df[\"Date\"] = pd.to_datetime(unemployment_df[\"Date\"]).dt.strftime('%b %Y')\n",
    "unemployment_df[\"Total Rate\"] = pd.to_numeric(unemployment_df[\"Total Rate\"], errors='coerce')\n",
    "unemployment_df[\"Male Rate\"] = pd.to_numeric(unemployment_df[\"Male Rate\"], errors='coerce')\n",
    "unemployment_df[\"Female Rate\"] = pd.to_numeric(unemployment_df[\"Female Rate\"], errors='coerce')\n",
    "unemployment_df[\"Teen Rate\"] = pd.to_numeric(unemployment_df[\"Teen Rate\"], errors='coerce')\n",
    "unemployment_df[\"White Rate\"] = pd.to_numeric(unemployment_df[\"White Rate\"], errors='coerce')\n",
    "unemployment_df[\"Black Rate\"] = pd.to_numeric(unemployment_df[\"Black Rate\"], errors='coerce')\n",
    "unemployment_df[\"Asian Rate\"] = pd.to_numeric(unemployment_df[\"Asian Rate\"], errors='coerce')\n",
    "unemployment_df[\"Hispanic Rate\"] = pd.to_numeric(unemployment_df[\"Hispanic Rate\"], errors='coerce')\n",
    "\n",
    "unemployment_df.dtypes\n",
    "\n",
    "unemployment_df['Unemployment Change'] = unemployment_df['Total Rate'].pct_change().round(4)\n",
    "unemployment_df.loc[0, 'Unemployment Change'] = 0\n",
    "\n",
    "unemployment_df.head(10)"
   ]
  },
  {
   "cell_type": "code",
   "execution_count": null,
   "metadata": {},
   "outputs": [],
   "source": [
    "sp500_df.dtypes\n",
    "sp500_df[\"Date\"] = pd.to_datetime(sp500_df[\"Date\"])\n",
    "sp500_df.dtypes\n",
    "\n",
    "sp500_df = sp500_df[(sp500_df[\"Day\"] == 1) & (sp500_df[\"Date\"] >= \"2005-03-01\")]\n",
    "sp500_df = sp500_df.reset_index(drop = True)\n",
    "\n",
    "sp500_df[\"Date\"] = sp500_df[\"Date\"].dt.strftime('%b %Y')\n",
    "sp500_df = sp500_df.drop(columns=['Day', 'Weekday', 'Week', 'Month', 'Year'])\n",
    "\n",
    "sp500_df[\"Close Change\"] = sp500_df[\"Close\"].pct_change().round(4)\n",
    "sp500_df.loc[0, \"Close Change\"] = 0\n",
    "sp500_df.head(10)"
   ]
  },
  {
   "cell_type": "markdown",
   "metadata": {},
   "source": [
    "Merging the DataFrames"
   ]
  },
  {
   "cell_type": "code",
   "execution_count": null,
   "metadata": {},
   "outputs": [],
   "source": [
    "sp500_df['Date'] = pd.to_datetime(sp500_df['Date'], format='%b %Y')\n",
    "unemployment_df['Date'] = pd.to_datetime(unemployment_df['Date'], format='%b %Y')\n",
    "\n",
    "merged_df = pd.merge(sp500_df, unemployment_df, on='Date', how='inner')\n",
    "\n",
    "merged_df = merged_df.sort_values('Date').reset_index(drop=True)\n",
    "\n",
    "print(merged_df.head())"
   ]
  },
  {
   "cell_type": "markdown",
   "metadata": {},
   "source": [
    "This code filters the data to focus on the period between January 1, 2007, and December 31, 2010, representing the Great Recession. It then plots the unemployment rates for various demographic groups (e.g., male, female, white, black, Asian, Hispanic) over time during this period. Each demographic group's unemployment rate is visualized as a line plot with markers, and the chart includes labels, a title, and a legend to distinguish the different demographic groups."
   ]
  },
  {
   "cell_type": "code",
   "execution_count": null,
   "metadata": {},
   "outputs": [],
   "source": [
    "recession_df = merged_df[(merged_df['Date'] >= '2007-01-01') & (merged_df['Date'] <= '2010-12-31')]\n",
    "\n",
    "demographic_columns = ['Male Rate', 'Female Rate', 'White Rate', 'Black Rate', 'Asian Rate', 'Hispanic Rate']\n",
    "\n",
    "plt.figure(figsize=(14, 7))\n",
    "\n",
    "for column in demographic_columns:\n",
    "    plt.plot(recession_df['Date'], recession_df[column], marker='o', label=column)\n",
    "\n",
    "plt.title('Unemployment Rates by Demographic During Recession (2007–2010)')\n",
    "plt.xlabel('Date')\n",
    "plt.ylabel('Unemployment Rate (%)')\n",
    "plt.grid(True)\n",
    "plt.xticks(rotation=45)\n",
    "plt.legend()\n",
    "plt.tight_layout()\n",
    "plt.show()"
   ]
  },
  {
   "cell_type": "markdown",
   "metadata": {},
   "source": [
    "This code performs independent t-tests to compare the unemployment rates for different demographic groups during the period of the Great Recession (2008-2009) against the period just before the recession (2006-2007). The results for each demographic group (e.g., male, female, white, black, Asian, Hispanic) include the t-statistic, p-value, and whether the difference in means is statistically significant (p-value < 0.05). The results are stored in a dictionary and then displayed as a DataFrame, where each demographic's results are shown in rows."
   ]
  },
  {
   "cell_type": "code",
   "execution_count": null,
   "metadata": {},
   "outputs": [],
   "source": [
    "pre_recession = merged_df[(merged_df['Date'] >= '2006-01-01') & (merged_df['Date'] <= '2007-12-31')]\n",
    "during_recession = merged_df[(merged_df['Date'] >= '2008-01-01') & (merged_df['Date'] <= '2009-12-31')]\n",
    "\n",
    "demographics = ['Male Rate', 'Female Rate', 'White Rate', 'Black Rate', 'Asian Rate', 'Hispanic Rate']\n",
    "\n",
    "t_test_results = {}\n",
    "\n",
    "for demo in demographics:\n",
    "    stat, p_value = ttest_ind(during_recession[demo], pre_recession[demo], equal_var=False)\n",
    "    t_test_results[demo] = {\n",
    "        't_statistic': stat,\n",
    "        'p_value': p_value,\n",
    "        'significant': p_value < 0.05\n",
    "    }\n",
    "pd.DataFrame(t_test_results).T"
   ]
  },
  {
   "cell_type": "markdown",
   "metadata": {},
   "source": [
    "This code generates a scatter plot that visualizes the relationship between the S&P 500 closing prices (Close) and the total unemployment rate (Total Rate). It also calculates and prints the correlation coefficient between these two variables, indicating the strength and direction of their linear relationship. If the correlation is positive, it suggests that as the S&P 500 rises, the unemployment rate tends to increase (or vice versa). If negative, it indicates an inverse relationship between the two."
   ]
  },
  {
   "cell_type": "code",
   "execution_count": null,
   "metadata": {},
   "outputs": [],
   "source": [
    "plt.figure(figsize=(10, 6))\n",
    "sns.scatterplot(x=merged_df['Close'], y=merged_df['Total Rate'])\n",
    "plt.title('S&P 500 vs Unemployment Rate')\n",
    "plt.xlabel('S&P 500')\n",
    "plt.ylabel('Unemployment Rate')\n",
    "plt.show()\n",
    "\n",
    "correlation = merged_df['Close'].corr(merged_df['Total Rate'])\n",
    "print(f'Correlation between S&P 500 and Unemployment Rate: {correlation}')"
   ]
  }
 ],
 "metadata": {
  "kernelspec": {
   "display_name": "Python 3",
   "language": "python",
   "name": "python3"
  },
  "language_info": {
   "codemirror_mode": {
    "name": "ipython",
    "version": 3
   },
   "file_extension": ".py",
   "mimetype": "text/x-python",
   "name": "python",
   "nbconvert_exporter": "python",
   "pygments_lexer": "ipython3",
   "version": "3.9.6"
  }
 },
 "nbformat": 4,
 "nbformat_minor": 2
}
